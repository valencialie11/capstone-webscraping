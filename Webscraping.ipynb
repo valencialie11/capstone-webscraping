{
 "cells": [
  {
   "cell_type": "code",
   "execution_count": 1467,
   "metadata": {},
   "outputs": [],
   "source": [
    "import requests"
   ]
  },
  {
   "cell_type": "code",
   "execution_count": 1468,
   "metadata": {},
   "outputs": [],
   "source": [
    "import pandas as pd"
   ]
  },
  {
   "cell_type": "code",
   "execution_count": 1469,
   "metadata": {},
   "outputs": [],
   "source": [
    "#Get the website link\n",
    "url_get = requests.get(\"https://www.imdb.com/search/title/?release_date=2019-01-01,2019-12-31\")"
   ]
  },
  {
   "cell_type": "code",
   "execution_count": 1470,
   "metadata": {},
   "outputs": [],
   "source": [
    "from bs4 import BeautifulSoup"
   ]
  },
  {
   "cell_type": "code",
   "execution_count": 1471,
   "metadata": {},
   "outputs": [],
   "source": [
    "#Use beautiful soup to make it tidier\n",
    "soup = BeautifulSoup(url_get.content,\"html.parser\")"
   ]
  },
  {
   "cell_type": "code",
   "execution_count": 1472,
   "metadata": {
    "scrolled": true
   },
   "outputs": [],
   "source": [
    "#Find the relevant key and attributes\n",
    "movie = soup.find('div', attrs={'class':'lister-list'})"
   ]
  },
  {
   "cell_type": "code",
   "execution_count": 1473,
   "metadata": {
    "scrolled": false
   },
   "outputs": [
    {
     "name": "stdout",
     "output_type": "stream",
     "text": [
      "div class=\"lister-list\">\n",
      " <div class=\"lister-item mode-advanced\">\n",
      "  <div class=\"lister-top-right\">\n",
      "   <div class=\"ribbonize\" data-caller=\"filmosearch\" data-tconst=\"tt2527338\">\n",
      "   </div>\n",
      "  </div>\n",
      "  <div class=\"lister-item-image float-left\">\n",
      "   <a href=\"/title/tt2527338/\">\n",
      "    <img alt=\"Star Wars: Episode IX - The Rise of Skywalker\" class=\"loadlate\" data-tconst=\"tt2527338\" height=\"98\" loadlate=\"https://m.media-amazon.com/images/M/MV5BMDljNTQ5ODItZmQwMy00M2ExLTljOTQtZTVjNGE2NTg0NGIxXkEyXkFqcGdeQXVyODkzNTgxMDg@._V1_UX67_CR0,0,67,98_AL_.jpg\" src=\"https://m.media-amazon.com/images/G/01/imdb/images/nopicture/large/film-184890147._CB466725069_.png\" width=\"67\"/>\n",
      "   </a>\n",
      "  </div>\n",
      "  <div class=\"lister-item-content\">\n",
      "   <h3 class=\"lister-item-header\">\n",
      "    <span class=\"lister-item-index unbold text-primary\">\n",
      "     1.\n",
      "    </span>\n",
      "    <a href=\"/title/tt2527338/\">\n",
      "     Star Wars: Episode IX - The Rise of Skywalker\n",
      "    </a>\n",
      "    <span class=\"lister-item-year text-muted unbold\">\n",
      "     (2019)\n",
      "    </span>\n",
      "   </h3>\n",
      "   <p class=\"text-muted\">\n",
      "    <span class=\"certificate\">\n",
      "     PG-13\n",
      "    </span>\n",
      "    <span class=\"ghost\">\n",
      "     |\n",
      "    </span>\n",
      "    <span class=\"runtime\">\n",
      "     142 min\n",
      "    </span>\n",
      "    <span class=\"ghost\">\n",
      "     |\n",
      "    </span>\n",
      "    <span class=\"genre\">\n",
      "     Action, Adventure, Fantasy\n",
      "    </span>\n",
      "   </p>\n",
      "   <div class=\"ratings-bar\">\n",
      "    <div class=\"inline-block ratings-imdb-rating\" data-value=\"6.7\" name=\"ir\">\n",
      "     <span class=\"global-sprite rating-star imdb-rating\">\n",
      "     </span>\n",
      "     <strong>\n",
      "      6.7\n",
      "     </strong>\n",
      "    </div>\n",
      "    <div class=\"inline-block ratings-user-rating\">\n",
      "     <span class=\"userRatingValue\" data-tconst=\"tt2527338\" id=\"urv_tt2527338\">\n",
      "      <span class=\"global-sprite rating-star no-rating\">\n",
      "      </span>\n",
      "      <span class=\"rate\" data-no-rating=\"Rate this\" data-value=\"0\" name=\"ur\">\n",
      "       Rate this\n",
      "      </span>\n",
      "     </span>\n",
      "     <div class=\"starBarWidget\" id=\"sb_tt2527338\">\n",
      "      <div class=\"rating rating-list\" data-auth=\"\" data-ga-identifier=\"\" data-starbar-class=\"\n"
     ]
    }
   ],
   "source": [
    "print(movie.prettify()[1:2000])"
   ]
  },
  {
   "cell_type": "code",
   "execution_count": 1474,
   "metadata": {
    "scrolled": false
   },
   "outputs": [
    {
     "data": {
      "text/plain": [
       "['Star Wars: Episode IX - The Rise of Skywalker',\n",
       " 'The Mandalorian',\n",
       " 'After Life',\n",
       " 'Dead to Me',\n",
       " 'Once Upon a Time... in Hollywood',\n",
       " 'The Gentlemen',\n",
       " 'Gisaengchung']"
      ]
     },
     "execution_count": 1474,
     "metadata": {},
     "output_type": "execute_result"
    }
   ],
   "source": [
    "temp = []\n",
    "for i in range(0, 7):\n",
    "    name = movie.find_all('h3')[i]\n",
    "    for wrapper in name.find_all('a', href = True):\n",
    "        temp.append(wrapper.text)\n",
    "        \n",
    "temp"
   ]
  },
  {
   "cell_type": "code",
   "execution_count": 1475,
   "metadata": {},
   "outputs": [
    {
     "data": {
      "text/plain": [
       "<itertools.chain at 0x1263b59a0>"
      ]
     },
     "execution_count": 1475,
     "metadata": {},
     "output_type": "execute_result"
    }
   ],
   "source": [
    "from itertools import chain\n",
    "concatenated = chain(range(1), range(2,6), range(7,9))\n",
    "\n",
    "concatenated"
   ]
  },
  {
   "cell_type": "code",
   "execution_count": 1476,
   "metadata": {},
   "outputs": [
    {
     "data": {
      "text/plain": [
       "['319,341', '167,091', '67,088', '37,198', '462,452', '130,292', '402,064']"
      ]
     },
     "execution_count": 1476,
     "metadata": {},
     "output_type": "execute_result"
    }
   ],
   "source": [
    "temp1 = []\n",
    "for i in 0,2,3,4,5,7,8:\n",
    "    votes = movie.find_all('span', attrs={'name':'nv'})[i]\n",
    "    votes = votes.text.strip()\n",
    "    temp1.append(votes)\n",
    "\n",
    "temp1"
   ]
  },
  {
   "cell_type": "code",
   "execution_count": 1477,
   "metadata": {},
   "outputs": [
    {
     "data": {
      "text/plain": [
       "['53', 'NaN', 'NaN', 'NaN', '83', '51', '96']"
      ]
     },
     "execution_count": 1477,
     "metadata": {},
     "output_type": "execute_result"
    }
   ],
   "source": [
    "temp2 = []\n",
    "\n",
    "for i in range(1) :\n",
    "        meta = movie.find_all('span', attrs ={'class': 'metascore'})[i]\n",
    "        meta = meta.text.strip()\n",
    "        temp2.append(meta)\n",
    "        temp2.append('NaN')\n",
    "        temp2.append('NaN')\n",
    "        temp2.append('NaN')\n",
    "        \n",
    "for i in range(1,4):\n",
    "    meta2 = movie.find_all('span', attrs ={'class': 'metascore'})[i]\n",
    "    meta2 = meta2.text.strip()\n",
    "    temp2.append(meta2)\n",
    "\n",
    "temp2"
   ]
  },
  {
   "cell_type": "code",
   "execution_count": 1478,
   "metadata": {},
   "outputs": [
    {
     "data": {
      "text/plain": [
       "['6.7', '8.7', '8.5', '8.1', '7.7', '7.9', '8.6']"
      ]
     },
     "execution_count": 1478,
     "metadata": {},
     "output_type": "execute_result"
    }
   ],
   "source": [
    "temp3 = []\n",
    "\n",
    "for i in range(0,7):\n",
    "    ratings = movie.find_all('strong')[i]\n",
    "    ratings = ratings.text.strip()\n",
    "    temp3.append(ratings)\n",
    "    \n",
    "temp3"
   ]
  },
  {
   "cell_type": "code",
   "execution_count": 1479,
   "metadata": {},
   "outputs": [],
   "source": [
    "temp = pd.Series(temp, name = 'Movie Name')"
   ]
  },
  {
   "cell_type": "code",
   "execution_count": 1480,
   "metadata": {},
   "outputs": [],
   "source": [
    "temp1 = pd.Series(temp1, name = 'Votes')"
   ]
  },
  {
   "cell_type": "code",
   "execution_count": 1481,
   "metadata": {},
   "outputs": [],
   "source": [
    "temp2 = pd.Series(temp2, name = 'Meta Score')"
   ]
  },
  {
   "cell_type": "code",
   "execution_count": 1482,
   "metadata": {},
   "outputs": [],
   "source": [
    "temp3 = pd.Series(temp3, name = 'Ratings')"
   ]
  },
  {
   "cell_type": "code",
   "execution_count": 1483,
   "metadata": {
    "scrolled": true
   },
   "outputs": [],
   "source": [
    "df = pd.concat([temp, temp1, temp3, temp2], axis = 1)"
   ]
  },
  {
   "cell_type": "code",
   "execution_count": 1484,
   "metadata": {
    "scrolled": true
   },
   "outputs": [
    {
     "data": {
      "text/html": [
       "<div>\n",
       "<style scoped>\n",
       "    .dataframe tbody tr th:only-of-type {\n",
       "        vertical-align: middle;\n",
       "    }\n",
       "\n",
       "    .dataframe tbody tr th {\n",
       "        vertical-align: top;\n",
       "    }\n",
       "\n",
       "    .dataframe thead th {\n",
       "        text-align: right;\n",
       "    }\n",
       "</style>\n",
       "<table border=\"1\" class=\"dataframe\">\n",
       "  <thead>\n",
       "    <tr style=\"text-align: right;\">\n",
       "      <th></th>\n",
       "      <th>Movie Name</th>\n",
       "      <th>Votes</th>\n",
       "      <th>Ratings</th>\n",
       "      <th>Meta Score</th>\n",
       "    </tr>\n",
       "  </thead>\n",
       "  <tbody>\n",
       "    <tr>\n",
       "      <th>0</th>\n",
       "      <td>Star Wars: Episode IX - The Rise of Skywalker</td>\n",
       "      <td>319,341</td>\n",
       "      <td>6.7</td>\n",
       "      <td>53</td>\n",
       "    </tr>\n",
       "    <tr>\n",
       "      <th>1</th>\n",
       "      <td>The Mandalorian</td>\n",
       "      <td>167,091</td>\n",
       "      <td>8.7</td>\n",
       "      <td>NaN</td>\n",
       "    </tr>\n",
       "    <tr>\n",
       "      <th>2</th>\n",
       "      <td>After Life</td>\n",
       "      <td>67,088</td>\n",
       "      <td>8.5</td>\n",
       "      <td>NaN</td>\n",
       "    </tr>\n",
       "    <tr>\n",
       "      <th>3</th>\n",
       "      <td>Dead to Me</td>\n",
       "      <td>37,198</td>\n",
       "      <td>8.1</td>\n",
       "      <td>NaN</td>\n",
       "    </tr>\n",
       "    <tr>\n",
       "      <th>4</th>\n",
       "      <td>Once Upon a Time... in Hollywood</td>\n",
       "      <td>462,452</td>\n",
       "      <td>7.7</td>\n",
       "      <td>83</td>\n",
       "    </tr>\n",
       "    <tr>\n",
       "      <th>5</th>\n",
       "      <td>The Gentlemen</td>\n",
       "      <td>130,292</td>\n",
       "      <td>7.9</td>\n",
       "      <td>51</td>\n",
       "    </tr>\n",
       "    <tr>\n",
       "      <th>6</th>\n",
       "      <td>Gisaengchung</td>\n",
       "      <td>402,064</td>\n",
       "      <td>8.6</td>\n",
       "      <td>96</td>\n",
       "    </tr>\n",
       "  </tbody>\n",
       "</table>\n",
       "</div>"
      ],
      "text/plain": [
       "                                      Movie Name    Votes Ratings Meta Score\n",
       "0  Star Wars: Episode IX - The Rise of Skywalker  319,341     6.7         53\n",
       "1                                The Mandalorian  167,091     8.7        NaN\n",
       "2                                     After Life   67,088     8.5        NaN\n",
       "3                                     Dead to Me   37,198     8.1        NaN\n",
       "4               Once Upon a Time... in Hollywood  462,452     7.7         83\n",
       "5                                  The Gentlemen  130,292     7.9         51\n",
       "6                                   Gisaengchung  402,064     8.6         96"
      ]
     },
     "execution_count": 1484,
     "metadata": {},
     "output_type": "execute_result"
    }
   ],
   "source": [
    "df"
   ]
  },
  {
   "cell_type": "code",
   "execution_count": 1485,
   "metadata": {},
   "outputs": [],
   "source": [
    "df['Movie Name'] = df['Movie Name'].str.replace(\"Gisaengchung\",\"Parasite\")"
   ]
  },
  {
   "cell_type": "code",
   "execution_count": 1486,
   "metadata": {
    "scrolled": false
   },
   "outputs": [],
   "source": [
    "df['Votes'] = df['Votes'].str.replace(\",\",\"\")"
   ]
  },
  {
   "cell_type": "code",
   "execution_count": 1487,
   "metadata": {},
   "outputs": [],
   "source": [
    "df.Ratings = df.Ratings.astype('float64')"
   ]
  },
  {
   "cell_type": "code",
   "execution_count": 1489,
   "metadata": {
    "scrolled": false
   },
   "outputs": [],
   "source": [
    "df['Votes'] = df['Votes'].astype('int64')"
   ]
  },
  {
   "cell_type": "code",
   "execution_count": 1494,
   "metadata": {},
   "outputs": [],
   "source": [
    "df['Meta Score'] = df['Meta Score'].astype('float64')"
   ]
  },
  {
   "cell_type": "code",
   "execution_count": 1498,
   "metadata": {
    "scrolled": true
   },
   "outputs": [
    {
     "data": {
      "text/html": [
       "<div>\n",
       "<style scoped>\n",
       "    .dataframe tbody tr th:only-of-type {\n",
       "        vertical-align: middle;\n",
       "    }\n",
       "\n",
       "    .dataframe tbody tr th {\n",
       "        vertical-align: top;\n",
       "    }\n",
       "\n",
       "    .dataframe thead th {\n",
       "        text-align: right;\n",
       "    }\n",
       "</style>\n",
       "<table border=\"1\" class=\"dataframe\">\n",
       "  <thead>\n",
       "    <tr style=\"text-align: right;\">\n",
       "      <th></th>\n",
       "      <th>Movie Name</th>\n",
       "      <th>Votes</th>\n",
       "      <th>Ratings</th>\n",
       "      <th>Meta Score</th>\n",
       "    </tr>\n",
       "  </thead>\n",
       "  <tbody>\n",
       "    <tr>\n",
       "      <th>0</th>\n",
       "      <td>Star Wars: Episode IX - The Rise of Skywalker</td>\n",
       "      <td>319341</td>\n",
       "      <td>6.7</td>\n",
       "      <td>53.0</td>\n",
       "    </tr>\n",
       "    <tr>\n",
       "      <th>1</th>\n",
       "      <td>The Mandalorian</td>\n",
       "      <td>167091</td>\n",
       "      <td>8.7</td>\n",
       "      <td>NaN</td>\n",
       "    </tr>\n",
       "    <tr>\n",
       "      <th>2</th>\n",
       "      <td>After Life</td>\n",
       "      <td>67088</td>\n",
       "      <td>8.5</td>\n",
       "      <td>NaN</td>\n",
       "    </tr>\n",
       "    <tr>\n",
       "      <th>3</th>\n",
       "      <td>Dead to Me</td>\n",
       "      <td>37198</td>\n",
       "      <td>8.1</td>\n",
       "      <td>NaN</td>\n",
       "    </tr>\n",
       "    <tr>\n",
       "      <th>4</th>\n",
       "      <td>Once Upon a Time... in Hollywood</td>\n",
       "      <td>462452</td>\n",
       "      <td>7.7</td>\n",
       "      <td>83.0</td>\n",
       "    </tr>\n",
       "    <tr>\n",
       "      <th>5</th>\n",
       "      <td>The Gentlemen</td>\n",
       "      <td>130292</td>\n",
       "      <td>7.9</td>\n",
       "      <td>51.0</td>\n",
       "    </tr>\n",
       "    <tr>\n",
       "      <th>6</th>\n",
       "      <td>Parasite</td>\n",
       "      <td>402064</td>\n",
       "      <td>8.6</td>\n",
       "      <td>96.0</td>\n",
       "    </tr>\n",
       "  </tbody>\n",
       "</table>\n",
       "</div>"
      ],
      "text/plain": [
       "                                      Movie Name   Votes  Ratings  Meta Score\n",
       "0  Star Wars: Episode IX - The Rise of Skywalker  319341      6.7        53.0\n",
       "1                                The Mandalorian  167091      8.7         NaN\n",
       "2                                     After Life   67088      8.5         NaN\n",
       "3                                     Dead to Me   37198      8.1         NaN\n",
       "4               Once Upon a Time... in Hollywood  462452      7.7        83.0\n",
       "5                                  The Gentlemen  130292      7.9        51.0\n",
       "6                                       Parasite  402064      8.6        96.0"
      ]
     },
     "execution_count": 1498,
     "metadata": {},
     "output_type": "execute_result"
    }
   ],
   "source": [
    "df"
   ]
  }
 ],
 "metadata": {
  "kernelspec": {
   "display_name": "test",
   "language": "python",
   "name": "test"
  },
  "language_info": {
   "codemirror_mode": {
    "name": "ipython",
    "version": 3
   },
   "file_extension": ".py",
   "mimetype": "text/x-python",
   "name": "python",
   "nbconvert_exporter": "python",
   "pygments_lexer": "ipython3",
   "version": "3.8.2"
  },
  "toc": {
   "base_numbering": 1,
   "nav_menu": {},
   "number_sections": true,
   "sideBar": true,
   "skip_h1_title": false,
   "title_cell": "Table of Contents",
   "title_sidebar": "Contents",
   "toc_cell": false,
   "toc_position": {},
   "toc_section_display": true,
   "toc_window_display": false
  }
 },
 "nbformat": 4,
 "nbformat_minor": 2
}
